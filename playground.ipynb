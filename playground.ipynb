{
 "cells": [
  {
   "cell_type": "code",
   "execution_count": 39,
   "metadata": {},
   "outputs": [],
   "source": [
    "from bs4 import BeautifulSoup as bs4\n",
    "from lxml import html\n",
    "import os\n",
    "import psycopg2 as pg\n",
    "import requests\n",
    "import time\n",
    "import matplotlib.pyplot as plt\n",
    "import matplotlib.dates as mdates\n",
    "import pandas as pd\n",
    "import datetime\n",
    "import seaborn as sns\n",
    "from decimal import Decimal, ROUND_HALF_UP"
   ]
  },
  {
   "cell_type": "code",
   "execution_count": null,
   "metadata": {},
   "outputs": [],
   "source": [
    "df = pd.DataFrame(data={'timestamp': [datetime.datetime(2022, 3, 29, 0, 0, 0), datetime.datetime(2022, 3, 29, 0, 30, 0), datetime.datetime(2022, 3, 29, 1, 0, 0), datetime.datetime(2022, 3, 29, 1, 30, 0), datetime.datetime(2022, 3, 29, 2, 0, 0), datetime.datetime(2022, 3, 29, 2, 30, 0), datetime.datetime(2022, 3, 29, 3, 0, 0), datetime.datetime(2022, 3, 29, 3, 30, 0), datetime.datetime(2022, 3, 29, 4, 0, 0), datetime.datetime(2022, 3, 29, 4, 30, 0), datetime.datetime(2022, 3, 29, 5, 0, 0), datetime.datetime(2022, 3, 29, 5, 30, 0), datetime.datetime(2022, 3, 29, 6, 0, 0), datetime.datetime(2022, 3, 29, 6, 30, 0), datetime.datetime(2022, 3, 29, 7, 0, 0), datetime.datetime(2022, 3, 29, 7, 30, 0), datetime.datetime(2022, 3, 29, 8, 0, 0), datetime.datetime(2022, 3, 29, 8, 30, 0), datetime.datetime(2022, 3, 29, 9, 0, 0), datetime.datetime(2022, 3, 29, 9, 30, 0), datetime.datetime(2022, 3, 29, 10, 0, 0), datetime.datetime(2022, 3, 29, 10, 30, 0), datetime.datetime(2022, 3, 29, 11, 0, 0), datetime.datetime(2022, 3, 29, 11, 30, 0), datetime.datetime(2022, 3, 29, 12, 0, 0), datetime.datetime(2022, 3, 29, 12, 30, 0), datetime.datetime(2022, 3, 29, 13, 0, 0), datetime.datetime(2022, 3, 29, 13, 30, 0), datetime.datetime(2022, 3, 29, 14, 0, 0), datetime.datetime(2022, 3, 29, 14, 30, 0), datetime.datetime(2022, 3, 29, 15, 0, 0), datetime.datetime(2022, 3, 29, 15, 30, 0), datetime.datetime(2022, 3, 29, 16, 0, 0), datetime.datetime(2022, 3, 29, 16, 30, 0), datetime.datetime(2022, 3, 29, 17, 0, 0), datetime.datetime(2022, 3, 29, 17, 30, 0), datetime.datetime(2022, 3, 29, 18, 0, 0), datetime.datetime(2022, 3, 29, 18, 30, 0), datetime.datetime(2022, 3, 29, 19, 0, 0), datetime.datetime(2022, 3, 29, 19, 30, 0), datetime.datetime(2022, 3, 29, 20, 0, 0), datetime.datetime(2022, 3, 29, 20, 30, 0), datetime.datetime(2022, 3, 29, 21, 0, 0), datetime.datetime(2022, 3, 29, 21, 30, 0), datetime.datetime(2022, 3, 29, 22, 0, 0), datetime.datetime(2022, 3, 29, 22, 30, 0), datetime.datetime(2022, 3, 29, 23, 0, 0), datetime.datetime(2022, 3, 29, 23, 30, 0)], 'duration': [11, 9, 12, 11, 9, 12, 11, 9, 12, 11, 9, 12, 11, 9, 12, 11, 9, 12, 11, 9, 12, 11, 9, 12, 11, 9, 12, 11, 9, 12, 11, 9, 12, 11, 9, 12, 11, 9, 12, 11, 9, 12, 11, 9, 12, 11, 9, 12]})\n",
    "fig, ax = plt.subplots(figsize=(16, 9), dpi=120)\n",
    "ax.plot(df['timestamp'], df['duration'], color='#fe923a', linewidth=3)\n",
    "fig.set_facecolor('#212529')\n",
    "ax.set_facecolor('#343a40')\n",
    "ax.tick_params(axis='x', colors='#f8f9fa', labelsize=16)\n",
    "ax.tick_params(axis='y', colors='#f8f9fa', labelsize=16)\n",
    "ax.xaxis.set_major_locator(mdates.HourLocator(interval=3))\n",
    "ax.set_ylim(5, 20)\n",
    "ax.axhspan(ymin=15, ymax=99, color='#c92a2a', alpha=0.3)\n",
    "ax.text(0.98, 0.98, df[-1:]['timestamp'].iloc[-1].strftime('%Y-%m-%d %H:%M:%S'), va='top', ha='right',\n",
    "        transform=ax.transAxes, color='#f8f9fa', size=24)\n",
    "ax.text(0.98, 0.02, '@ShizudaiDown', horizontalalignment='right',\n",
    "        transform=ax.transAxes, color='#f8f9fa', size=24)\n",
    "ax.set_title('Shizuoka University Downdetector', loc='center', color='#f8f9fa', size=36, pad=24)\n",
    "fig.savefig('plot.png')\n"
   ]
  }
 ],
 "metadata": {
  "interpreter": {
   "hash": "b3ba2566441a7c06988d0923437866b63cedc61552a5af99d1f4fb67d367b25f"
  },
  "kernelspec": {
   "display_name": "Python 3.9.7 ('base')",
   "language": "python",
   "name": "python3"
  },
  "language_info": {
   "codemirror_mode": {
    "name": "ipython",
    "version": 3
   },
   "file_extension": ".py",
   "mimetype": "text/x-python",
   "name": "python",
   "nbconvert_exporter": "python",
   "pygments_lexer": "ipython3",
   "version": "3.9.7"
  },
  "orig_nbformat": 4
 },
 "nbformat": 4,
 "nbformat_minor": 2
}
